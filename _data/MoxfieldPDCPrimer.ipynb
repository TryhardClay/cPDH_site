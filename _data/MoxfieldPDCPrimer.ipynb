{
 "cells": [
  {
   "cell_type": "code",
   "execution_count": 2,
   "id": "fe17f11d-2376-46f5-bfd4-e0179b95ab88",
   "metadata": {},
   "outputs": [],
   "source": [
    "from bs4 import BeautifulSoup as soup \n",
    "from urllib.request import urlopen as uReq\n",
    "from urllib.request import Request\n",
    "import time\n",
    "from selenium import webdriver\n",
    "from selenium.webdriver.chrome.options import Options\n",
    "from webdriver_manager.chrome import ChromeDriverManager"
   ]
  },
  {
   "cell_type": "code",
   "execution_count": 3,
   "id": "414be224-6acf-48c1-9171-fa04f097b762",
   "metadata": {},
   "outputs": [],
   "source": [
    "myurl =  'https://www.moxfield.com/decks/Yg0rvuin2Uyeiak1WboKJw/primer'"
   ]
  },
  {
   "cell_type": "code",
   "execution_count": 4,
   "id": "ca977918-edcf-4026-8715-7091cbdc6f5f",
   "metadata": {},
   "outputs": [],
   "source": [
    "client = uReq(myurl) # opening connection \n",
    "page_html = client.read() # content to variable\n",
    "client.close() # closes connection \n",
    "page_soup = soup(page_html, 'html.parser') # html parsing "
   ]
  },
  {
   "cell_type": "code",
   "execution_count": 5,
   "id": "5f93cd9d-ba5f-4a7e-8dda-dffd3e6ce0c1",
   "metadata": {},
   "outputs": [],
   "source": [
    "# makes a list of HTMlS for the Decklists.\n",
    "containers = page_soup.findAll(\"ul\",{\"class\": \"markdown\"})\n",
    "htmls = []\n",
    "for c in containers:\n",
    "    htmls.append(c.a[\"href\"])"
   ]
  },
  {
   "cell_type": "code",
   "execution_count": 14,
   "id": "6c3bd746-1d1b-4228-9463-835fb14c0720",
   "metadata": {},
   "outputs": [
    {
     "data": {
      "text/plain": [
       "239"
      ]
     },
     "execution_count": 14,
     "metadata": {},
     "output_type": "execute_result"
    }
   ],
   "source": [
    "len(htmls)"
   ]
  },
  {
   "cell_type": "code",
   "execution_count": 10,
   "id": "ad4eff26-f5de-45d8-a978-8cb17e677a3a",
   "metadata": {},
   "outputs": [],
   "source": [
    "deck = htmls[0]\n",
    "#deck= Request(deck, data=None, headers={'User-Agent': 'Mozilla/5.0 (Windows NT 10.0; Win64; x64) AppleWebKit/537.36 (KHTML, like Gecko) Chrome/66.0.3359.181 Safari/537.36'})"
   ]
  },
  {
   "cell_type": "code",
   "execution_count": 8,
   "id": "56c8573f-d7b1-4a67-9b1f-547898b94039",
   "metadata": {},
   "outputs": [],
   "source": [
    "chromedriver_path= r\"_data/chromedriver.exe"\n",
    "driver = webdriver.Chrome(chromedriver_path)\n",
    "driver.get(deck)\n",
    "time.sleep(3) #if you want to wait 3 seconds for the page to load\n",
    "page_source = driver.page_source\n",
    "driver.close()\n",
    "page_soup = soup(page_source, 'lxml')\n",
    "#print(page_soup)"
   ]
  },
  {
   "cell_type": "code",
   "execution_count": 9,
   "id": "d5ebe378-4d38-40fd-b971-a229443ec0a3",
   "metadata": {},
   "outputs": [
    {
     "name": "stdout",
     "output_type": "stream",
     "text": [
      "['Tana, the Bloodsower', 'Tymna the Weaver', 'Arbor Elf', \"Avacyn's Pilgrim\", 'Birds of Paradise', 'Conspicuous Snoop', 'Deathrite Shaman', 'Destiny Spinner', 'Dockside Extortionist', 'Elves of Deep Shadow', 'Elvish Mystic', 'Elvish Spirit Guide', 'Felidar Guardian', 'Goblin Recruiter', 'Grand Abolisher', 'Hope of Ghirapur', 'Karmic Guide', 'Kiki-Jiki, Mirror Breaker', 'Mogg Fanatic', 'Orcish Lumberjack', 'Simian Spirit Guide', 'Tinder Wall', 'Torch Courier', 'Vexing Shusher', 'Demonic Tutor', 'Diabolic Intent', 'Doomsday', 'Eldritch Evolution', 'Finale of Devastation', 'Gamble', 'Imperial Seal', 'Infernal Plunge', 'Peer into the Abyss', 'Wheel of Fortune', \"Yawgmoth's Will\", 'Abrupt Decay', 'Ad Nauseam', \"Assassin's Trophy\", 'Burnt Offering', 'Cabal Ritual', 'Crop Rotation', 'Culling the Weak', 'Dark Ritual', 'Deflecting Swat', \"Eladamri's Call\", 'Enlightened Tutor', 'Force of Vigor', \"Nature's Claim\", 'Noxious Revival', 'Pyroblast', 'Rain of Filth', 'Red Elemental Blast', 'Silence', 'Vampiric Tutor', 'Veil of Summer', 'Worldly Tutor', 'Birthing Pod', 'Chrome Mox', 'Jeweled Lotus', \"Lion's Eye Diamond\", 'Lotus Petal', 'Mana Crypt', 'Mana Vault', 'Mox Diamond', 'Sol Ring', 'Wishclaw Talisman', 'Carpet of Flowers', 'Necropotence', 'Survival of the Fittest', 'Sylvan Library', 'Underworld Breach', 'Wild Growth', 'Arid Mesa', 'Badlands', 'Bayou', 'Bloodstained Mire', 'City of Brass', 'Command Tower', 'Flooded Strand', \"Gaea's Cradle\", 'Gemstone Caverns', 'Horizon Canopy', 'Mana Confluence', 'Marsh Flats', 'Misty Rainforest', 'Nurturing Peatland', 'Overgrown Tomb', 'Plateau', 'Polluted Delta', 'Savannah', 'Scalding Tarn', 'Scrubland', 'Silent Clearing', 'Stomping Ground', 'Sunbaked Canyon', 'Taiga', 'Tarnished Citadel', 'Verdant Catacombs', 'Windswept Heath', 'Wooded Foothills', 'Chrome Mox', 'Jeweled Lotus', \"Lion's Eye Diamond\", 'Lotus Petal', 'Mana Crypt', 'Mox Diamond']\n"
     ]
    }
   ],
   "source": [
    "containers = page_soup.findAll(\"tr\",{\"class\": \"table-deck-row\"})\n",
    "cards = []\n",
    "for c in containers:\n",
    "    cards.append( c.a.get_text())\n",
    "print(cards)"
   ]
  },
  {
   "cell_type": "code",
   "execution_count": null,
   "id": "bf8b9c28-147f-477a-90dc-b753d113cf24",
   "metadata": {},
   "outputs": [],
   "source": []
  }
 ],
 "metadata": {
  "kernelspec": {
   "display_name": "Python 3",
   "language": "python",
   "name": "python3"
  },
  "language_info": {
   "codemirror_mode": {
    "name": "ipython",
    "version": 3
   },
   "file_extension": ".py",
   "mimetype": "text/x-python",
   "name": "python",
   "nbconvert_exporter": "python",
   "pygments_lexer": "ipython3",
   "version": "3.9.1"
  }
 },
 "nbformat": 4,
 "nbformat_minor": 5
}
